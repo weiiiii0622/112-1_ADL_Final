{
 "cells": [
  {
   "cell_type": "markdown",
   "metadata": {},
   "source": [
    "# Demonstration on how to use MusicGen"
   ]
  },
  {
   "cell_type": "code",
   "execution_count": null,
   "metadata": {},
   "outputs": [],
   "source": [
    "# set CUDA visible device id\n",
    "import os\n",
    "os.environ['CUDA_VISIBLE_DEVICES'] = '0'"
   ]
  },
  {
   "cell_type": "code",
   "execution_count": null,
   "metadata": {},
   "outputs": [],
   "source": [
    "# load model\n",
    "from transformers import AutoProcessor, MusicgenForConditionalGeneration\n",
    "import torch\n",
    "# use facebook/musicgen-small if GPU memory limited\n",
    "processor = AutoProcessor.from_pretrained(\"facebook/musicgen-medium\")\n",
    "model = MusicgenForConditionalGeneration.from_pretrained(\"facebook/musicgen-medium\")\n",
    "model = model.cuda()"
   ]
  },
  {
   "cell_type": "markdown",
   "metadata": {},
   "source": [
    "## Example Usage"
   ]
  },
  {
   "cell_type": "code",
   "execution_count": null,
   "metadata": {},
   "outputs": [],
   "source": [
    "import json\n",
    "\n",
    "text=[]\n",
    "text.append(\"country guitar\")\n",
    "\n",
    "# From the Stanford captioning dataset. This alone have high probability will generate terrible music.\n",
    "text.append(\"A large building with bars on the windows in front of it. \\\n",
    "            There is people walking in front of the building. \\\n",
    "            There is a street in front of the building with many cars on it.\")\n",
    "\n",
    "inputs = processor(\n",
    "    text=text,\n",
    "    padding=True,\n",
    "    return_tensors=\"pt\",\n",
    ").to(\"cuda\")\n"
   ]
  },
  {
   "cell_type": "code",
   "execution_count": null,
   "metadata": {},
   "outputs": [],
   "source": [
    "# man_new_tokens = 256/512/1024 for 5/10/20 seconds\n",
    "audio_values = model.generate(**inputs, do_sample=True, guidance_scale=3, max_new_tokens=256)"
   ]
  },
  {
   "cell_type": "markdown",
   "metadata": {},
   "source": [
    "Can either play it in ipynb or save it."
   ]
  },
  {
   "cell_type": "code",
   "execution_count": null,
   "metadata": {},
   "outputs": [],
   "source": [
    "import IPython\n",
    "sampling_rate = model.config.audio_encoder.sampling_rate\n",
    "\n",
    "IPython.display.Audio(audio_values[0].cpu().numpy(), rate=sampling_rate)\n",
    "\n"
   ]
  },
  {
   "cell_type": "code",
   "execution_count": null,
   "metadata": {},
   "outputs": [],
   "source": [
    "IPython.display.Audio(audio_values[1].cpu().numpy(), rate=sampling_rate)"
   ]
  },
  {
   "cell_type": "markdown",
   "metadata": {},
   "source": [
    "## Generate on dataset"
   ]
  },
  {
   "cell_type": "code",
   "execution_count": null,
   "metadata": {},
   "outputs": [],
   "source": [
    "import json\n",
    "# Change the file_path generated from InstructBLIP. \n",
    "file_path = '../../InstructBLIP_demo.json'\n",
    "\n",
    "with open(file_path, 'r') as file:\n",
    "    data = json.load(file)\n",
    "\n",
    "text_list = []\n",
    "id_list = []\n",
    "\n",
    "for item in data:\n",
    "    text_string = f\"{item['time']}, {item['music-era']}, {item['emotion']}, {item['music-style']}. {item['paragraph']}\"\n",
    "    print(text_string)\n",
    "    text_list.append(text_string)\n",
    "    id_list.append(item['url'])\n",
    "    break\n"
   ]
  },
  {
   "cell_type": "code",
   "execution_count": null,
   "metadata": {},
   "outputs": [],
   "source": [
    "from tqdm import tqdm\n",
    "n = len(text_list)\n",
    "batch_size = 2  # Set your desired batch size\n",
    "audio_values = []\n",
    "\n",
    "for i in tqdm(range(0, n, batch_size)):\n",
    "    batch_texts = text_list[i:i+batch_size]\n",
    "    inputs = processor(\n",
    "        text=batch_texts,\n",
    "        padding=True,\n",
    "        return_tensors=\"pt\",\n",
    "    ).to(\"cuda\")\n",
    "\n",
    "    batch_audio_values = model.generate(**inputs, do_sample=True, guidance_scale=3, max_new_tokens=512)\n",
    "    audio_values.extend(batch_audio_values)\n"
   ]
  },
  {
   "cell_type": "code",
   "execution_count": null,
   "metadata": {},
   "outputs": [],
   "source": [
    "# Save the audio files\n",
    "import scipy, os\n",
    "output_dir = \"./audio_output\"\n",
    "os.makedirs(output_dir, exist_ok=True)\n",
    "sampling_rate = model.config.audio_encoder.sampling_rate\n",
    "for i in range(len(audio_values)):\n",
    "    scipy.io.wavfile.write(f\"{output_dir}/{id_list[i]}.wav\", rate=sampling_rate, data=audio_values[i][0].cpu().numpy())"
   ]
  }
 ],
 "metadata": {
  "kernelspec": {
   "display_name": "adl",
   "language": "python",
   "name": "python3"
  },
  "language_info": {
   "codemirror_mode": {
    "name": "ipython",
    "version": 3
   },
   "file_extension": ".py",
   "mimetype": "text/x-python",
   "name": "python",
   "nbconvert_exporter": "python",
   "pygments_lexer": "ipython3",
   "version": "3.9.18"
  }
 },
 "nbformat": 4,
 "nbformat_minor": 2
}
