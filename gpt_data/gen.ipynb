{
 "cells": [
  {
   "cell_type": "code",
   "execution_count": 1,
   "metadata": {},
   "outputs": [],
   "source": [
    "import os\n",
    "# Set you Private API Key here\n",
    "os.environ['OPENAI_API_KEY'] = \"\""
   ]
  },
  {
   "cell_type": "code",
   "execution_count": 11,
   "metadata": {},
   "outputs": [],
   "source": [
    "import openai\n",
    "\n",
    "def get_response(input_text):\n",
    "    prompt = f\"根據以下的英文圖片敘述，請寫一首中文古詩。詩詞需要押韻，並保持每一句的字數一致。請讓詩詞的內容豐富，並帶有深遠的意境。圖片敘述：{input_text}\\n請根據這個敘述創作詩詞。\"\n",
    "    response = openai.chat.completions.create(\n",
    "    model=\"gpt-4-1106-preview\",\n",
    "    # model = \"gpt-3.5-turbo-1106\",\n",
    "    messages=[\n",
    "        {\"role\": \"user\", \"content\": prompt}\n",
    "    ]\n",
    "    )\n",
    "    return response\n"
   ]
  },
  {
   "cell_type": "code",
   "execution_count": 12,
   "metadata": {},
   "outputs": [],
   "source": [
    "# As a reference on calculating the cost (in USD) of using the API (optional)\n",
    "def get_price(response):\n",
    "    price = response.usage.prompt_tokens/1000 * 0.01 + \\\n",
    "            response.usage.completion_tokens/1000 * 0.03 \n",
    "    return price"
   ]
  },
  {
   "cell_type": "code",
   "execution_count": 15,
   "metadata": {},
   "outputs": [],
   "source": [
    "import pandas as pd\n",
    "import json\n",
    "from tqdm import tqdm\n",
    "\n",
    "def process_json(input_file, json_file, start_example=1001, num_examples=1000, chunk_size=1):\n",
    "    df = pd.read_json(input_file)\n",
    "    total_rows = df.shape[0]\n",
    "\n",
    "    # If num_examples is not provided, process all examples starting from start_example\n",
    "    if num_examples is None:\n",
    "        num_examples = total_rows - start_example\n",
    "    else:\n",
    "        # Ensure we don't go beyond the total number of rows\n",
    "        num_examples = min(num_examples, total_rows - start_example)\n",
    "\n",
    "    data = []\n",
    "    cost = 0\n",
    "\n",
    "    # Initialize tqdm with the total number of iterations\n",
    "    progress_bar = tqdm(total=num_examples, desc=\"Generating Data\", unit=\"row\")\n",
    "\n",
    "    for idx, row in df.iloc[start_example:start_example + num_examples].iterrows():\n",
    "        url = row['url']\n",
    "        paragraph = row['paragraph']\n",
    "        # Assuming get_response and get_price are defined elsewhere\n",
    "        response = get_response(paragraph)\n",
    "        answer = response.choices[0].message.content\n",
    "        cost += get_price(response)\n",
    "\n",
    "        example_data = {\n",
    "            'url': url,\n",
    "            'paragraph': paragraph,\n",
    "            'answer': answer\n",
    "        }\n",
    "        data.append(example_data)\n",
    "        \n",
    "        # Update the progress bar description and refresh the display\n",
    "        progress_bar.set_description(f\"Processing CSV - Cost: {cost:.2f}\")\n",
    "        progress_bar.update(1)\n",
    "\n",
    "        if (idx + 1) % chunk_size == 0 or idx == total_rows - 1:\n",
    "            # Write to JSON file every chunk_size examples or on the last example\n",
    "            with open(json_file, 'w', encoding='utf-8') as jsonfile:\n",
    "                json.dump(data, jsonfile, ensure_ascii=False, indent=2)\n",
    "    \n",
    "    # Close the progress bar\n",
    "    progress_bar.close()\n"
   ]
  },
  {
   "cell_type": "code",
   "execution_count": 16,
   "metadata": {},
   "outputs": [
    {
     "name": "stderr",
     "output_type": "stream",
     "text": [
      "Processing CSV - Cost: 5.40: 100%|██████████| 1000/1000 [2:00:53<00:00,  7.25s/row]  \n"
     ]
    }
   ],
   "source": [
    "\n",
    "# Change Input file to the output path from InstructBLIP\n",
    "input_file = './112-1_ADL_Final/InstructBLIP/InstructBlip_ver2.json'\n",
    "output_file = 'new_gpt4_1k.json'\n",
    "process_json(input_file, output_file)"
   ]
  }
 ],
 "metadata": {
  "kernelspec": {
   "display_name": "Python 3",
   "language": "python",
   "name": "python3"
  },
  "language_info": {
   "codemirror_mode": {
    "name": "ipython",
    "version": 3
   },
   "file_extension": ".py",
   "mimetype": "text/x-python",
   "name": "python",
   "nbconvert_exporter": "python",
   "pygments_lexer": "ipython3",
   "version": "3.9.18"
  }
 },
 "nbformat": 4,
 "nbformat_minor": 2
}
