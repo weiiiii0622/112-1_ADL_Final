{
 "cells": [
  {
   "cell_type": "code",
   "execution_count": 23,
   "metadata": {},
   "outputs": [],
   "source": [
    "import os\n",
    "# API Private Key\n",
    "os.environ['OPENAI_API_KEY'] = \"\""
   ]
  },
  {
   "cell_type": "code",
   "execution_count": 25,
   "metadata": {},
   "outputs": [],
   "source": [
    "import openai\n",
    "\n",
    "def get_response(input_text):\n",
    "    prompt = f\"請根據以下敘述寫一首詩詞: {input_text}\"\n",
    "    response = openai.chat.completions.create(\n",
    "    model=\"gpt-4-1106-preview\",\n",
    "    # model = \"gpt-3.5-turbo-1106\",\n",
    "    messages=[\n",
    "        {\"role\": \"user\", \"content\": prompt}\n",
    "    ]\n",
    "    )\n",
    "    return response\n"
   ]
  },
  {
   "cell_type": "code",
   "execution_count": 26,
   "metadata": {},
   "outputs": [],
   "source": [
    "def get_price(response):\n",
    "    price = response.usage.prompt_tokens/1000 * 0.01 + \\\n",
    "            response.usage.completion_tokens/1000 * 0.03 \n",
    "    return price"
   ]
  },
  {
   "cell_type": "code",
   "execution_count": 27,
   "metadata": {},
   "outputs": [],
   "source": [
    "import pandas as pd\n",
    "import json\n",
    "from tqdm import tqdm\n",
    "\n",
    "def process_json(input_file, output_file, num_examples=1000, chunk_size=1):\n",
    "    df = pd.read_json(input_file)\n",
    "    if num_examples is None:\n",
    "        num_examples = df.shape[0]\n",
    "    \n",
    "    data = []\n",
    "    cost = 0\n",
    "    \n",
    "    progress_bar = tqdm(total=num_examples, desc=\"Processing CSV\", unit=\"row\")\n",
    "\n",
    "    for idx, row in df.head(num_examples).iterrows():\n",
    "        url = row['url']\n",
    "        paragraph = row['paragraph']\n",
    "        response = get_response(paragraph)\n",
    "        answer = response.choices[0].message.content\n",
    "        cost += get_price(response)\n",
    "\n",
    "        example_data = {\n",
    "            'url': url,\n",
    "            'paragraph': paragraph,\n",
    "            'answer': answer\n",
    "        }\n",
    "        data.append(example_data)\n",
    "        \n",
    "        # Update the progress bar description and refresh the display\n",
    "        progress_bar.set_description(f\"Processing CSV - Cost: {cost:.2f}\")\n",
    "        progress_bar.update(1)\n",
    "\n",
    "        if (idx + 1) % chunk_size == 0 or idx == df.shape[0] - 1:\n",
    "            # Write to JSON file every chunk_size examples or on the last example\n",
    "            with open(output_file, 'w', encoding='utf-8') as jsonfile:\n",
    "                json.dump(data, jsonfile, ensure_ascii=False, indent=2)\n",
    "    \n",
    "    # Close the progress bar\n",
    "    progress_bar.close()\n"
   ]
  },
  {
   "cell_type": "code",
   "execution_count": 28,
   "metadata": {},
   "outputs": [
    {
     "name": "stderr",
     "output_type": "stream",
     "text": [
      "Processing CSV - Cost: 5.23: 100%|██████████| 1000/1000 [3:24:51<00:00, 12.29s/row]\n"
     ]
    }
   ],
   "source": [
    "\n",
    "input_file = './112-1_ADL_Final/InstructBLIP/InstructBlip_ver2.json'\n",
    "output_file = 'output.json'\n",
    "process_json(input_file, output_file)"
   ]
  }
 ],
 "metadata": {
  "kernelspec": {
   "display_name": "Python 3",
   "language": "python",
   "name": "python3"
  },
  "language_info": {
   "codemirror_mode": {
    "name": "ipython",
    "version": 3
   },
   "file_extension": ".py",
   "mimetype": "text/x-python",
   "name": "python",
   "nbconvert_exporter": "python",
   "pygments_lexer": "ipython3",
   "version": "3.9.18"
  }
 },
 "nbformat": 4,
 "nbformat_minor": 2
}
