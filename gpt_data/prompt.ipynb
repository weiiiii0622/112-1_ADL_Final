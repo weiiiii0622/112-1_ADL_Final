{
 "cells": [
  {
   "cell_type": "code",
   "execution_count": 6,
   "metadata": {},
   "outputs": [],
   "source": [
    "import json\n",
    "\n",
    "# Load the provided JSON file\n",
    "file_path = './gpt4_1434.json'\n",
    "\n",
    "with open(file_path, 'r', encoding='utf-8') as file:\n",
    "    data = json.load(file)\n",
    "\n",
    "# Convert the 'paragraph' column to 'instruction' and change 'answer' column name to 'output'\n",
    "for item in data:\n",
    "    paragraph = item['paragraph']\n",
    "    item['instruction'] = f\"根據以下的英文圖片敘述，請寫一首中文古詩。詩詞需要押韻，並保持每一句的字數一致。請讓詩詞的內容豐富，並帶有深遠的意境。圖片敘述：{paragraph}\\n請根據這個敘述創作詩詞。\"\n",
    "    item['output'] = item.pop('answer')\n",
    "    item.pop('paragraph')\n",
    "    item.pop('id')\n",
    "\n",
    "# Save the modified data to a new JSON file\n",
    "modified_file_path = './prompt_gpt4_1434.json'\n",
    "with open(modified_file_path, 'w', encoding='utf-8') as file:\n",
    "    json.dump(data, file, ensure_ascii=False, indent=2)"
   ]
  }
 ],
 "metadata": {
  "kernelspec": {
   "display_name": "adl",
   "language": "python",
   "name": "python3"
  },
  "language_info": {
   "codemirror_mode": {
    "name": "ipython",
    "version": 3
   },
   "file_extension": ".py",
   "mimetype": "text/x-python",
   "name": "python",
   "nbconvert_exporter": "python",
   "pygments_lexer": "ipython3",
   "version": "3.9.18"
  }
 },
 "nbformat": 4,
 "nbformat_minor": 2
}
