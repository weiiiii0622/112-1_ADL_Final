{
 "cells": [
  {
   "cell_type": "markdown",
   "metadata": {},
   "source": [
    "唐詩"
   ]
  },
  {
   "cell_type": "code",
   "execution_count": 9,
   "metadata": {},
   "outputs": [
    {
     "name": "stderr",
     "output_type": "stream",
     "text": [
      "C:\\Users\\cocoh\\AppData\\Local\\Temp\\ipykernel_1844\\780589748.py:18: DeprecationWarning: The 'text' argument to find()-type methods is deprecated. Use 'string' instead.\n",
      "  chinese_original_tag = soup.find(\"p\", text=\"中文原文﹕\")\n",
      "C:\\Users\\cocoh\\AppData\\Local\\Temp\\ipykernel_1844\\780589748.py:31: DeprecationWarning: The 'text' argument to find()-type methods is deprecated. Use 'string' instead.\n",
      "  chinese_original_tag = soup.find(\"p\", text=lambda t: t and \"英文翻譯\" in t)\n"
     ]
    },
    {
     "name": "stdout",
     "output_type": "stream",
     "text": [
      "http://wp.me/s1GGkk-009  chinese error\n"
     ]
    }
   ],
   "source": [
    "import requests\n",
    "from bs4 import BeautifulSoup\n",
    "import json\n",
    "\n",
    "base_url = \"http://wp.me/s1GGkk-\"\n",
    "result_data = []\n",
    "\n",
    "for i in range(1, 321):\n",
    "    target_url = f\"{base_url}{str(i).zfill(3)}\"\n",
    "    \n",
    "\n",
    "    response = requests.get(target_url)\n",
    "\n",
    "    if response.status_code == 200:\n",
    "        soup = BeautifulSoup(response.content, \"html.parser\")\n",
    "        \n",
    "        # Chinese poem\n",
    "        chinese_original_tag = soup.find(\"p\", text=\"中文原文﹕\")\n",
    "        if chinese_original_tag == None:\n",
    "            print(target_url, \" chinese error\")\n",
    "            continue\n",
    "        poem_elements = chinese_original_tag.find_next_siblings(\"p\")\n",
    "        poem = \"\"\n",
    "        for element in poem_elements:\n",
    "            if \"英文翻譯\" in element.text.strip():\n",
    "                break\n",
    "            poem += element.text.strip()\n",
    "        poem = poem.replace(\"\\n\", \"\")\n",
    "\n",
    "        # English translation\n",
    "        chinese_original_tag = soup.find(\"p\", text=lambda t: t and \"英文翻譯\" in t)\n",
    "        if chinese_original_tag == None:\n",
    "            print(target_url, \" english error\")\n",
    "            continue\n",
    "        poem_elements = chinese_original_tag.find_next_siblings(\"p\")\n",
    "        eng = \"\"\n",
    "        for element in poem_elements:\n",
    "            eng += element.text.strip()\n",
    "        eng = eng.replace(\"\\n\", \" \")\n",
    "\n",
    "        result_data.append({\"poem\": poem, \"translate\": eng})\n",
    "    else:\n",
    "        print(f\"ERROR：{target_url}\")\n",
    "\n",
    "with open('poem_english.json', 'w', encoding='utf-8') as f:\n",
    "    json.dump(result_data, f, ensure_ascii=False, indent=2)\n"
   ]
  },
  {
   "cell_type": "markdown",
   "metadata": {},
   "source": [
    "宋詞(不分長度)"
   ]
  },
  {
   "cell_type": "code",
   "execution_count": 1,
   "metadata": {},
   "outputs": [
    {
     "name": "stderr",
     "output_type": "stream",
     "text": [
      "C:\\Users\\cocoh\\AppData\\Local\\Temp\\ipykernel_1844\\3175082193.py:18: DeprecationWarning: The 'text' argument to find()-type methods is deprecated. Use 'string' instead.\n",
      "  chinese_original_tag = soup.find(\"p\", text=\"中文原文﹕\")\n",
      "C:\\Users\\cocoh\\AppData\\Local\\Temp\\ipykernel_1844\\3175082193.py:31: DeprecationWarning: The 'text' argument to find()-type methods is deprecated. Use 'string' instead.\n",
      "  chinese_original_tag = soup.find(\"p\", text=lambda t: t and \"英文翻譯\" in t)\n"
     ]
    }
   ],
   "source": [
    "import requests\n",
    "from bs4 import BeautifulSoup\n",
    "import json\n",
    "\n",
    "base_url = \"http://wp.me/s1GGkk-s\"\n",
    "result_data = []\n",
    "\n",
    "for i in range(1, 11):\n",
    "    target_url = f\"{base_url}{str(i).zfill(3)}\"\n",
    "    \n",
    "\n",
    "    response = requests.get(target_url)\n",
    "\n",
    "    if response.status_code == 200:\n",
    "        soup = BeautifulSoup(response.content, \"html.parser\")\n",
    "        \n",
    "        # Chinese poem\n",
    "        chinese_original_tag = soup.find(\"p\", text=\"中文原文﹕\")\n",
    "        if chinese_original_tag == None:\n",
    "            print(target_url, \" chinese error\")\n",
    "            continue\n",
    "        poem_elements = chinese_original_tag.find_next_siblings(\"p\")\n",
    "        poem = \"\"\n",
    "        for element in poem_elements:\n",
    "            if \"英文翻譯\" in element.text.strip():\n",
    "                break\n",
    "            poem += element.text.strip()\n",
    "        poem = poem.replace(\"\\n\", \"\")\n",
    "\n",
    "        # English translation\n",
    "        chinese_original_tag = soup.find(\"p\", text=lambda t: t and \"英文翻譯\" in t)\n",
    "        if chinese_original_tag == None:\n",
    "            print(target_url, \" english error\")\n",
    "            continue\n",
    "        poem_elements = chinese_original_tag.find_next_siblings(\"p\")\n",
    "        eng = \"\"\n",
    "        for element in poem_elements:\n",
    "            eng += element.text.strip()\n",
    "        eng = eng.replace(\"\\n\", \" \")\n",
    "\n",
    "        result_data.append({\"poem\": poem, \"translate\": eng})\n",
    "    else:\n",
    "        print(f\"error: {target_url}\")\n",
    "\n",
    "with open('ci_english.json', 'w', encoding='utf-8') as f:\n",
    "    json.dump(result_data, f, ensure_ascii=False, indent=2)\n"
   ]
  },
  {
   "cell_type": "markdown",
   "metadata": {},
   "source": [
    "去除空格"
   ]
  },
  {
   "cell_type": "code",
   "execution_count": 16,
   "metadata": {},
   "outputs": [],
   "source": [
    "import json\n",
    "\n",
    "with open('poem_english.json', 'r', encoding='utf-8') as file:\n",
    "    data = json.load(file)\n",
    "\n",
    "for entry in data:\n",
    "    entry['poem'] = entry['poem'].replace(\" \", \"\")\n",
    "\n",
    "with open('poem_english.json', 'w', encoding='utf-8') as file:\n",
    "    json.dump(data, file, ensure_ascii=False, indent=2)\n",
    "\n",
    "with open('ci_english.json', 'r', encoding='utf-8') as file:\n",
    "    data = json.load(file)\n",
    "\n",
    "for entry in data:\n",
    "    entry['poem'] = entry['poem'].replace(\" \", \"\")\n",
    "\n",
    "with open('ci_english.json', 'w', encoding='utf-8') as file:\n",
    "    json.dump(data, file, ensure_ascii=False, indent=2)"
   ]
  },
  {
   "cell_type": "markdown",
   "metadata": {},
   "source": [
    "分長度"
   ]
  },
  {
   "cell_type": "code",
   "execution_count": 15,
   "metadata": {},
   "outputs": [
    {
     "name": "stdout",
     "output_type": "stream",
     "text": [
      "10\n",
      "['，', '。', '？', '、']\n"
     ]
    }
   ],
   "source": [
    "import json\n",
    "import re\n",
    "\n",
    "with open('ci_english.json', 'r', encoding='utf-8') as file:\n",
    "    data = json.load(file)\n",
    "\n",
    "diff_len = []\n",
    "same_len = []\n",
    "non_chinese = []\n",
    "\n",
    "print(len(data))\n",
    "for entry in data:\n",
    "    entry['poem'] = entry['poem'].replace(\"\\n\", \"\").replace(\" \", \"\")\n",
    "    poem = entry['poem']\n",
    "    # 使用正則表達式找出中文標點符號隔開的子字串\n",
    "    nono = re.findall(r'[^\\u4e00-\\u9fff]+', poem)\n",
    "    for non in nono:\n",
    "        if non not in non_chinese:\n",
    "            non_chinese.append(non)\n",
    "    \n",
    "    # 用非中文字符分割字串\n",
    "    substrings = re.split(r'[^\\u4e00-\\u9fff]+', poem)\n",
    "    \n",
    "    # check length\n",
    "    lengths = [len(substring) for substring in substrings]\n",
    "    if len(set(lengths)) > 1:\n",
    "        diff_len.append(entry)\n",
    "    else:\n",
    "        same_len.append(entry)\n",
    "\n",
    "print(non_chinese)\n",
    "with open('diff_len.json', 'w', encoding='utf-8') as diff_file:\n",
    "    json.dump(diff_len, diff_file, ensure_ascii=False, indent=2)\n",
    "\n",
    "with open('same_len.json', 'w', encoding='utf-8') as same_file:\n",
    "    json.dump(same_len, same_file, ensure_ascii=False, indent=2)\n"
   ]
  },
  {
   "cell_type": "markdown",
   "metadata": {},
   "source": [
    "Error handling\n",
    "其中一首唐詩的網站 HTML 格式錯誤"
   ]
  },
  {
   "cell_type": "code",
   "execution_count": 10,
   "metadata": {},
   "outputs": [],
   "source": [
    "poem = \"人生不相見，動如參與商，今夕復何夕？共此燈燭光。少壯能幾時？鬢髮各已蒼。訪舊半為鬼，驚呼熱中腸。焉知二十載，重上君子堂。昔別君未婚，兒女忽成行；怡然敬父執，問我來何方。問答乃未已，驅兒羅酒漿。夜雨剪春韭，新炊間黃粱。主稱會面難，一舉累十觴；十觴亦不醉，感子故意長。明日隔山岳，世事兩茫茫。\"\n",
    "translate = \"We have been unable to see each other for so long, We have been like morning and evening stars that never meet in the sky. What a night this has been? For us to share this candlelight. For how long does youth last? Your hair has greyed and so has mine. Of the old acquaintances I called upon, half of them have ghosts become, Aghast and gut-wrenched I cried. All of a sudden twenty years have gone by Before I could again call on where you reside. You were not engaged when we went our separate ways, You are now married with children after all this time. They courteously greet their father’s friend, And my journey enquire. Before I could their curiosity satisfy, You have your son bringing out the wine. We nibble on spring chives just gathered in the evening rain, In a fresh meal that rough grains contain, You marvel at how unexpected such a reunion is, In one raise of a cup, you gulp down more than a pint. Pints after, high in spirit you are, yet sober still, And I am grateful for your friendship so genuine. From tomorrow, there will be mountains to us separate, What the future holds is veiled and vague.\"\n",
    "\n",
    "import json\n",
    "\n",
    "with open('poem_english.json', 'r', encoding='utf-8') as f:\n",
    "    data = json.load(f)\n",
    "\n",
    "new_obj = {\"poem\": poem, \"translate\": translate}\n",
    "\n",
    "data.insert(8, new_obj)\n",
    "\n",
    "with open('poem_english.json', 'w', encoding='utf-8') as f:\n",
    "    json.dump(data, f, ensure_ascii=False, indent=2)"
   ]
  },
  {
   "cell_type": "markdown",
   "metadata": {},
   "source": [
    "合併唐詩宋詞"
   ]
  },
  {
   "cell_type": "code",
   "execution_count": 12,
   "metadata": {},
   "outputs": [],
   "source": [
    "import json\n",
    "\n",
    "with open('poem_english.json', 'r', encoding='utf-8') as file_a:\n",
    "    data_a = json.load(file_a)\n",
    "\n",
    "with open('same_len.json', 'r', encoding='utf-8') as file_b:\n",
    "    data_b = json.load(file_b)\n",
    "\n",
    "data_c = data_a + data_b\n",
    "\n",
    "with open('poem.json', 'w', encoding='utf-8') as file_c:\n",
    "    json.dump(data_c, file_c, ensure_ascii=False, indent=2)\n"
   ]
  }
 ],
 "metadata": {
  "kernelspec": {
   "display_name": "Python 3",
   "language": "python",
   "name": "python3"
  },
  "language_info": {
   "codemirror_mode": {
    "name": "ipython",
    "version": 3
   },
   "file_extension": ".py",
   "mimetype": "text/x-python",
   "name": "python",
   "nbconvert_exporter": "python",
   "pygments_lexer": "ipython3",
   "version": "3.11.3"
  }
 },
 "nbformat": 4,
 "nbformat_minor": 2
}
